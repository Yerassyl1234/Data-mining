{
 "cells": [
  {
   "cell_type": "code",
   "execution_count": 7,
   "id": "98861b04-59f5-445e-b312-6496ee07f9c8",
   "metadata": {},
   "outputs": [
    {
     "name": "stdout",
     "output_type": "stream",
     "text": [
      "['worst concavity' 'worst concave points']\n",
      "86.8421052631579\n"
     ]
    }
   ],
   "source": [
    "import numpy as np\n",
    "from sklearn import datasets\n",
    "from sklearn.model_selection import train_test_split\n",
    "from sklearn.svm import SVC\n",
    "from sklearn.feature_selection import RFE\n",
    "from sklearn.metrics import accuracy_score\n",
    "cancer = datasets.load_breast_cancer()\n",
    "X = cancer.data\n",
    "y = cancer.target\n",
    "X_train, X_test, y_train, y_test = train_test_split(X, y, test_size=0.2, random_state=42)\n",
    "svm = SVC(kernel=\"linear\")\n",
    "rfe = RFE(estimator=svm, n_features_to_select=2)  \n",
    "rfe.fit(X_train, y_train)\n",
    "selected_features = rfe.support_\n",
    "X_train_rfe = X_train[:, selected_features]\n",
    "X_test_rfe = X_test[:, selected_features]\n",
    "svm.fit(X_train_rfe, y_train)\n",
    "y_pred = svm.predict(X_test_rfe)\n",
    "accuracy = accuracy_score(y_test, y_pred)\n",
    "print(np.array(cancer.feature_names)[selected_features])\n",
    "print(format(accuracy * 100))\n"
   ]
  },
  {
   "cell_type": "code",
   "execution_count": null,
   "id": "ad43e5cf-cdc0-40be-9db7-ee5dd9563ef5",
   "metadata": {},
   "outputs": [],
   "source": []
  }
 ],
 "metadata": {
  "kernelspec": {
   "display_name": "Python 3 (ipykernel)",
   "language": "python",
   "name": "python3"
  },
  "language_info": {
   "codemirror_mode": {
    "name": "ipython",
    "version": 3
   },
   "file_extension": ".py",
   "mimetype": "text/x-python",
   "name": "python",
   "nbconvert_exporter": "python",
   "pygments_lexer": "ipython3",
   "version": "3.12.4"
  }
 },
 "nbformat": 4,
 "nbformat_minor": 5
}
