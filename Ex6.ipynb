{
 "cells": [
  {
   "cell_type": "code",
   "execution_count": 2,
   "metadata": {},
   "outputs": [
    {
     "name": "stdout",
     "output_type": "stream",
     "text": [
      "Training Features (X_train):\n",
      "    feature1  feature2\n",
      "4         5        10\n",
      "2         3         8\n",
      "0         1         6\n",
      "3         4         9\n",
      "Training Target (y_train):\n",
      " 4    0\n",
      "2    0\n",
      "0    0\n",
      "3    1\n",
      "Name: target, dtype: int64\n",
      "Testing Features (X_test):\n",
      "    feature1  feature2\n",
      "1         2         7\n",
      "Testing Target (y_test):\n",
      " 1    1\n",
      "Name: target, dtype: int64\n"
     ]
    }
   ],
   "source": [
    "from sklearn.model_selection import train_test_split\n",
    "import pandas as pd\n",
    "data = {'feature1': [1, 2, 3, 4, 5],\n",
    "        'feature2': [6, 7, 8, 9, 10],\n",
    "        'target': [0, 1, 0, 1, 0]}\n",
    "\n",
    "df = pd.DataFrame(data)\n",
    "\n",
    "\n",
    "X = df[['feature1', 'feature2']]  \n",
    "y = df['target']  \n",
    "\n",
    "\n",
    "X_train_70, X_test_30, y_train_30, y_test_70 = train_test_split(X, y, test_size=0.2, random_state=42)\n",
    "\n",
    "print(\"Training Features (X_train):\\n\", X_train)\n",
    "print(\"Training Target (y_train):\\n\", y_train)\n",
    "print(\"Testing Features (X_test):\\n\", X_test)\n",
    "print(\"Testing Target (y_test):\\n\", y_test)\n"
   ]
  }
 ],
 "metadata": {
  "kernelspec": {
   "display_name": "base",
   "language": "python",
   "name": "python3"
  },
  "language_info": {
   "codemirror_mode": {
    "name": "ipython",
    "version": 3
   },
   "file_extension": ".py",
   "mimetype": "text/x-python",
   "name": "python",
   "nbconvert_exporter": "python",
   "pygments_lexer": "ipython3",
   "version": "3.12.4"
  }
 },
 "nbformat": 4,
 "nbformat_minor": 2
}
