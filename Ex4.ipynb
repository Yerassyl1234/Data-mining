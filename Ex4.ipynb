{
 "cells": [
  {
   "cell_type": "code",
   "execution_count": 10,
   "metadata": {},
   "outputs": [
    {
     "name": "stdout",
     "output_type": "stream",
     "text": [
      "   feature1  feature2  combination\n",
      "0         1         6            6\n",
      "1         2         7           14\n",
      "2         3         8           24\n",
      "3         4         9           36\n",
      "4         5        10           50\n",
      "   feature1  feature2  feature1^2  feature1*feature2  feature2^2\n",
      "0       1.0       6.0         1.0                6.0        36.0\n",
      "1       2.0       7.0         4.0               14.0        49.0\n",
      "2       3.0       8.0         9.0               24.0        64.0\n",
      "3       4.0       9.0        16.0               36.0        81.0\n",
      "4       5.0      10.0        25.0               50.0       100.0\n",
      "  date_column  year  month  day  day_of_week  quarter\n",
      "0  2023-01-01  2023      1    1            6        1\n",
      "1  2023-02-15  2023      2   15            2        1\n",
      "2  2023-03-30  2023      3   30            3        1\n",
      "3  2023-04-20  2023      4   20            3        2\n",
      "4  2023-05-05  2023      5    5            4        2\n",
      "  date_column  year  month  day  day_of_week  quarter  is_holiday\n",
      "0  2023-01-01  2023      1    1            6        1           1\n",
      "1  2023-02-15  2023      2   15            2        1           0\n",
      "2  2023-03-30  2023      3   30            3        1           0\n",
      "3  2023-04-20  2023      4   20            3        2           0\n",
      "4  2023-05-05  2023      5    5            4        2           1\n"
     ]
    }
   ],
   "source": [
    "import pandas as pd\n",
    "df=pd.DataFrame()\n",
    "feature1 = [1, 2, 3, 4, 5]\n",
    "feature2 = [6, 7, 8, 9, 10]\n",
    "df['feature1']=feature1\n",
    "df['feature2']=feature2\n",
    "df['combination']=df['feature1']*df['feature2']\n",
    "print(df)\n",
    "from sklearn.preprocessing import PolynomialFeatures\n",
    "poly=PolynomialFeatures(degree=2, include_bias=False)\n",
    "poly_features=poly.fit_transform(df[['feature1','feature2']])\n",
    "poly_df=pd.DataFrame(poly_features, columns=['feature1','feature2','feature1^2','feature1*feature2','feature2^2'])\n",
    "print(poly_df)\n",
    "\n",
    "data = {\n",
    "    'date_column': ['2023-01-01', '2023-02-15', '2023-03-30', '2023-04-20', '2023-05-05']\n",
    "}\n",
    "\n",
    "df = pd.DataFrame(data)\n",
    "df['date_column'] = pd.to_datetime(df['date_column'])\n",
    "df['year'] = df['date_column'].dt.year\n",
    "df['month'] = df['date_column'].dt.month\n",
    "df['day'] = df['date_column'].dt.day\n",
    "df['day_of_week'] = df['date_column'].dt.dayofweek \n",
    "df['quarter'] = df['date_column'].dt.quarter\n",
    "print(df)\n",
    "\n",
    "\n",
    "\n",
    "holidays = ['2023-01-01', '2023-05-05']  # Example holidays as spike days\n",
    "holidays = pd.to_datetime(holidays)\n",
    "df['is_holiday'] = df['date_column'].isin(holidays).astype(int)\n",
    "print(df)\n",
    "\n",
    "\n"
   ]
  }
 ],
 "metadata": {
  "kernelspec": {
   "display_name": "base",
   "language": "python",
   "name": "python3"
  },
  "language_info": {
   "codemirror_mode": {
    "name": "ipython",
    "version": 3
   },
   "file_extension": ".py",
   "mimetype": "text/x-python",
   "name": "python",
   "nbconvert_exporter": "python",
   "pygments_lexer": "ipython3",
   "version": "3.12.4"
  }
 },
 "nbformat": 4,
 "nbformat_minor": 2
}
